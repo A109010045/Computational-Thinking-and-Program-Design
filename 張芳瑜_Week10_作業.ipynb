{
  "nbformat": 4,
  "nbformat_minor": 0,
  "metadata": {
    "colab": {
      "name": "張芳瑜-Week10-作業.ipynb",
      "provenance": [],
      "collapsed_sections": [],
      "include_colab_link": true
    },
    "kernelspec": {
      "display_name": "Python 3",
      "language": "python",
      "name": "python3"
    },
    "language_info": {
      "codemirror_mode": {
        "name": "ipython",
        "version": 3
      },
      "file_extension": ".py",
      "mimetype": "text/x-python",
      "name": "python",
      "nbconvert_exporter": "python",
      "pygments_lexer": "ipython3",
      "version": "3.8.5"
    }
  },
  "cells": [
    {
      "cell_type": "markdown",
      "metadata": {
        "id": "view-in-github",
        "colab_type": "text"
      },
      "source": [
        "<a href=\"https://colab.research.google.com/github/A109010045/Computational-Thinking-and-Program-Design/blob/main/%E5%BC%B5%E8%8A%B3%E7%91%9C_Week10_%E4%BD%9C%E6%A5%AD.ipynb\" target=\"_parent\"><img src=\"https://colab.research.google.com/assets/colab-badge.svg\" alt=\"Open In Colab\"/></a>"
      ]
    },
    {
      "cell_type": "markdown",
      "metadata": {
        "id": "yDfWfL3GpCCU"
      },
      "source": [
        "# 基本程式設計(應用篇)"
      ]
    },
    {
      "cell_type": "markdown",
      "metadata": {
        "id": "PfKupjG4pCCb"
      },
      "source": [
        "### 4-2 運算思維四個基石"
      ]
    },
    {
      "cell_type": "markdown",
      "metadata": {
        "id": "ulj2y54XpCCb"
      },
      "source": [
        "#### 4-2-4  問題拆解 - 打造你的聊天機器人"
      ]
    },
    {
      "cell_type": "markdown",
      "metadata": {
        "id": "eAK3TgHFpCCc"
      },
      "source": [
        "「哈囉，大家好。我叫Zyxo64，是一個聊天機器人。\n",
        "\n",
        "在嗜好與興趣方面，我很喜歡美食，也喜歡養動物。\n",
        "\n",
        "很高興有機會來到世新大學，請大家多多指教。\n",
        "\n",
        "嗨！妳好，請問大名？：Francis。\n",
        "\n",
        "Francis，很高興認識你。"
      ]
    },
    {
      "cell_type": "code",
      "metadata": {
        "colab": {
          "base_uri": "https://localhost:8080/"
        },
        "id": "F8cmxkLvpCCc",
        "outputId": "15807bec-e56a-4cd4-c30a-9680f6effc56"
      },
      "source": [
        "# 1.聊天機器人自我介紹\n",
        "print(\"哈囉，大家好。我叫Zyxo64，是一個聊天機器人。\")\n",
        "hobby = \"在嗜好與興趣方面，我很喜歡美食，也喜歡養動物。今天很高興有機會來到世新大學，請大家多多指教。\"\n",
        "print( hobby )\n",
        "\n",
        "# 2. 打招呼，取得對方名字\n",
        "name = input(\"嗨！妳好，請問大名？: \")\n",
        "print(name, \"很高興認識你\")\n"
      ],
      "execution_count": null,
      "outputs": [
        {
          "output_type": "stream",
          "text": [
            "哈囉，大家好。我叫Zyxo64，是一個聊天機器人。\n",
            "在嗜好與興趣方面，我很喜歡美食，也喜歡養動物。今天很高興有機會來到世新大學，請大家多多指教。\n",
            "嗨！妳好，請問大名？: 666\n",
            "666 很高興認識你\n"
          ],
          "name": "stdout"
        }
      ]
    },
    {
      "cell_type": "markdown",
      "metadata": {
        "id": "YDJw5nJGpCCd"
      },
      "source": [
        "抱歉，請問一下今年是西元2021年，那是民國幾年呢？：*110*。\n",
        "\n",
        "對！沒錯，謝謝妳！\n",
        "\n",
        "**Francis**，猜猜看我今年幾歲？ ：**18**。\n",
        "\n",
        "哇！你好聰明，我今年的確*18*。\n",
        "\n",
        "再82年我就100歲了。\n",
        "\n",
        "那時候是西元 2103年，也就是民國192年囉！"
      ]
    },
    {
      "cell_type": "code",
      "metadata": {
        "colab": {
          "base_uri": "https://localhost:8080/"
        },
        "id": "f--dTwqNpCCd",
        "outputId": "2821cc0d-52e2-4985-ab64-d653a53cf613"
      },
      "source": [
        "# 3. 數學運算\n",
        "## 3-1 從使用者取得今年年份\n",
        "year = input(\"抱歉，請問一下今年是西元2021年，那是民國幾年呢？ \")\n",
        "print(\"對！沒錯，謝謝妳！\")\n",
        "\n",
        "## 3-2 請使用者猜年齡\n",
        "myage = int(input(\"Francis，猜猜看我今年幾歲？ \"))\n",
        "print(\"哇！你好聰明，我今年的確\", myage)\n",
        "\n",
        "## 3-3 計算聊天機器人滿100歲的年份\n",
        "nyears = 100 - myage\n",
        "print(\"再\", nyears, \"年我就100歲了。\")\n",
        "\n",
        "print(\"那時候是西元\", int(year) + nyears + 1911, \"年\") \n",
        "print(\"也就是民國\", int(year) + nyears, \"年囉！\") \n",
        "\n"
      ],
      "execution_count": null,
      "outputs": [
        {
          "output_type": "stream",
          "text": [
            "抱歉，請問一下今年是西元2021年，那是民國幾年呢？ 110\n",
            "對！沒錯，謝謝妳！\n",
            "Francis，猜猜看我今年幾歲？ 18\n",
            "哇！你好聰明，我今年的確 18\n",
            "再 82 年我就100歲了。\n",
            "那時候是西元 2103 年\n",
            "也就是民國 192 年囉！\n"
          ],
          "name": "stdout"
        }
      ]
    },
    {
      "cell_type": "markdown",
      "metadata": {
        "id": "PH2dyqVMpCCd"
      },
      "source": [
        "我喜歡吃巧克力，也喜歡嘗試各種新食物。\n",
        "\n",
        "你呢？你最喜歡的食物是什麼？**:披薩**。\n",
        "\n",
        "我也喜歡 *披薩*。\n",
        "\n",
        "你多久吃一次 *披薩*？**：每天**。\n",
        "\n",
        "真有趣。不知道這樣對健康好不好。"
      ]
    },
    {
      "cell_type": "code",
      "metadata": {
        "colab": {
          "base_uri": "https://localhost:8080/"
        },
        "id": "8qYUPDMIpCCe",
        "outputId": "69599970-88ab-4387-9c2f-cc0c4a85a043"
      },
      "source": [
        "# 4 興趣\n",
        "## 4-1 食物話題\n",
        "print(\"我喜歡吃巧克力，也喜歡嘗試各種新食物。\")\n",
        "food = input(\"你呢。你最喜歡的食物是什麼？： \")\n",
        "print(\"我也喜歡\", food)\n",
        "question = \"你多久吃一次\" + food + \"?: \"\n",
        "howoften = input(question)\n",
        "print(\"真有趣。不知道這樣對健康好不好。\")"
      ],
      "execution_count": null,
      "outputs": [
        {
          "output_type": "stream",
          "text": [
            "我喜歡吃巧克力，也喜歡嘗試各種新食物。\n",
            "你呢。你最喜歡的食物是什麼？： 披薩\n",
            "我也喜歡 披薩\n",
            "你多久吃一次披薩?: 每天\n",
            "真有趣。不知道這樣對健康好不好。\n"
          ],
          "name": "stdout"
        }
      ]
    },
    {
      "cell_type": "markdown",
      "metadata": {
        "id": "J_HWSD-kpCCe"
      },
      "source": [
        "我最喜歡的動物是長頸鹿。你呢？ **：烏龜**。\n",
        "\n",
        "我不喜歡*烏龜*！\n",
        "\n",
        "不知道 *烏龜* 喜不喜歡吃 *披薩*？"
      ]
    },
    {
      "cell_type": "code",
      "metadata": {
        "colab": {
          "base_uri": "https://localhost:8080/"
        },
        "id": "X4bVYt4CpCCe",
        "outputId": "a278bf38-3362-486c-fb80-675a66c6bc50"
      },
      "source": [
        "# 4 興趣\n",
        "## 4-2 動物話題\n",
        "animal = input(\"我最喜歡的動物是長頸鹿。你呢？； \")\n",
        "print(\"我不喜歡\", animal)\n",
        "print(\"不知道\", animal, \"喜不喜歡吃\", food, \"?\")"
      ],
      "execution_count": null,
      "outputs": [
        {
          "output_type": "stream",
          "text": [
            "我最喜歡的動物是長頸鹿。你呢？； 烏龜\n",
            "我不喜歡 烏龜\n",
            "不知道 烏龜 喜不喜歡吃 披薩 ?\n"
          ],
          "name": "stdout"
        }
      ]
    },
    {
      "cell_type": "markdown",
      "metadata": {
        "id": "QyGL8zLvpCCe"
      },
      "source": [
        "你今天的心情如何？ **：很開心**。\n",
        "\n",
        "可以告訴我你 *開心* 的原因嗎？**因為週末了！** \n",
        "\n",
        "祝你週末愉快！\n",
        "\n",
        "我喜歡跟你聊天，現在有點累了，改天再聊吧！！\n",
        "\n",
        "再見 *Francis*！"
      ]
    },
    {
      "cell_type": "code",
      "metadata": {
        "colab": {
          "base_uri": "https://localhost:8080/"
        },
        "id": "-LcCIodQpCCf",
        "outputId": "b4aa76bd-f8c8-438c-dd5b-ab0cb293be97"
      },
      "source": [
        "# 5. 關於心情的對話\n",
        "feeling = input(\"你今天心情如何？； \")\n",
        "print(\"可以告訴我，你\", feeling, \"的原因。 \")\n",
        "reason = input(\"為什麼： \")\n",
        "print(\"我知道了。謝謝分享。\")"
      ],
      "execution_count": null,
      "outputs": [
        {
          "output_type": "stream",
          "text": [
            "你今天心情如何？； 很開心\n",
            "可以告訴我，你 很開心 的原因。 \n",
            "為什麼： 因為週末了！\n",
            "我知道了。謝謝分享。\n"
          ],
          "name": "stdout"
        }
      ]
    },
    {
      "cell_type": "markdown",
      "metadata": {
        "id": "A1hwPGd8pCCf"
      },
      "source": [
        "我喜歡跟你聊天，現在有點累了，改天再聊吧！！\n",
        "\n",
        "再見 *Francis*！"
      ]
    },
    {
      "cell_type": "code",
      "metadata": {
        "colab": {
          "base_uri": "https://localhost:8080/",
          "height": 134
        },
        "id": "OjIgwQelpCCf",
        "outputId": "26bf4020-1574-4be2-8b4e-b1539d62bd31"
      },
      "source": [
        "# 6. 道別\n",
        "print(\"我喜歡跟你聊天，現在有點累了，改天再聊吧!!\")\n",
        "print(\"再見\"，\"666\")\n"
      ],
      "execution_count": null,
      "outputs": [
        {
          "output_type": "error",
          "ename": "SyntaxError",
          "evalue": "ignored",
          "traceback": [
            "\u001b[0;36m  File \u001b[0;32m\"<ipython-input-23-7a88adea67c2>\"\u001b[0;36m, line \u001b[0;32m3\u001b[0m\n\u001b[0;31m    print(\"再見\"，\"666\")\u001b[0m\n\u001b[0m              ^\u001b[0m\n\u001b[0;31mSyntaxError\u001b[0m\u001b[0;31m:\u001b[0m invalid character in identifier\n"
          ]
        }
      ]
    },
    {
      "cell_type": "markdown",
      "metadata": {
        "id": "p_kLJlhyOodo"
      },
      "source": [
        "##------------------------------------------------------------------------------"
      ]
    },
    {
      "cell_type": "markdown",
      "metadata": {
        "id": "-3qT6oEEOv66"
      },
      "source": [
        "##------------------------------------------------------------------------------\n"
      ]
    },
    {
      "cell_type": "markdown",
      "metadata": {
        "id": "cA4QKYpK8mIe"
      },
      "source": [
        "#期末報告文字腳本"
      ]
    },
    {
      "cell_type": "code",
      "metadata": {
        "id": "uvEfcLqE8uuU",
        "colab": {
          "base_uri": "https://localhost:8080/"
        },
        "outputId": "b8998708-fe52-4118-f257-a8f2d6e1505d"
      },
      "source": [
        "### 聊天機器人帶你做心理評估\n",
        "\n",
        "# 1.聊天機器人自我介紹 & 打招呼，取得對方名字\n",
        "name = input(\"嗨！妳好，請問大名？: \")\n",
        "print(name, \"很高興認識你\")\n",
        "print(\"我叫Robot，是一個聊天機器人。\")"
      ],
      "execution_count": 12,
      "outputs": [
        {
          "output_type": "stream",
          "text": [
            "嗨！妳好，請問大名？: 芳瑜\n",
            "芳瑜 很高興認識你\n",
            "我叫Robot，是一個聊天機器人。\n"
          ],
          "name": "stdout"
        }
      ]
    },
    {
      "cell_type": "code",
      "metadata": {
        "id": "5QiR10gwE3BT",
        "colab": {
          "base_uri": "https://localhost:8080/"
        },
        "outputId": "1017013f-81de-4d65-c153-e7bc87268dc4"
      },
      "source": [
        "# 2. 簡單的開頭對話，說明主題及答題方式\n",
        "Introdution = \"你常常會覺得心累做事提不起勁嗎?\"\n",
        "print( Introdution )\n",
        "reason = input(\"為什麼： \")\n",
        "print(\"沒關係。可以一起來做下面的心理評估喔!\")\n",
        "print(\"你的厭世指數，用10個問題馬上測! 以下問題若答案為No請回答0，為Yes請回答1\")"
      ],
      "execution_count": 13,
      "outputs": [
        {
          "output_type": "stream",
          "text": [
            "你常常會覺得心累做事提不起勁嗎?\n",
            "為什麼： 不知\n",
            "沒關係。可以一起來做下面的心理評估喔!\n",
            "你的厭世指數，用10個問題馬上測! 以下問題若答案為No請回答0，為Yes請回答1\n"
          ],
          "name": "stdout"
        }
      ]
    },
    {
      "cell_type": "code",
      "metadata": {
        "id": "zdqI0EMRE6Nf",
        "colab": {
          "base_uri": "https://localhost:8080/"
        },
        "outputId": "85ddadf9-2e07-4a0e-d427-06b0dcc72fef"
      },
      "source": [
        "# 3. 測驗開始作答\n",
        "Q1=int(input(\"最近嘆氣的次數愈來愈多\"))\n",
        "Q2=int(input(\"對人際交往感到厭煩，聽到手機響起就覺得煩躁無力?\"))\n",
        "Q3=int(input(\"不太在乎自己的穿著，對時裝也失去興趣?\"))\n",
        "Q4=int(input(\"認為運動好麻煩，會盡可能在家宅\"))\n",
        "Q5=int(input(\"吃什麼都淡而無味，對美食失去興趣\"))\n",
        "Q6=int(input(\"最近的活動範圍只有家裡、公司或學校\"))\n",
        "Q7=int(input(\"明明有件事需要處理，卻遲遲未開始\"))\n",
        "Q8=int(input(\"失去上進心，覺得「現在這樣也不錯」\"))\n",
        "Q9=int(input(\"認為談戀愛是麻煩事\"))\n",
        "Q10=int(input(\"放假時大多數時間都在睡覺\"))"
      ],
      "execution_count": 52,
      "outputs": [
        {
          "output_type": "stream",
          "text": [
            "最近嘆氣的次數愈來愈多1\n",
            "對人際交往感到厭煩，聽到手機響起就覺得煩躁無力?1\n",
            "不太在乎自己的穿著，對時裝也失去興趣?1\n",
            "認為運動好麻煩，會盡可能在家宅1\n",
            "吃什麼都淡而無味，對美食失去興趣1\n",
            "最近的活動範圍只有家裡、公司或學校1\n",
            "明明有件事需要處理，卻遲遲未開始1\n",
            "失去上進心，覺得「現在這樣也不錯」1\n",
            "認為談戀愛是麻煩事1\n",
            "放假時大多數時間都在睡覺0\n"
          ],
          "name": "stdout"
        }
      ]
    },
    {
      "cell_type": "code",
      "metadata": {
        "colab": {
          "base_uri": "https://localhost:8080/"
        },
        "id": "pBGiaQJTGbFp",
        "outputId": "ccb0b926-4139-4856-ad10-6b364720a5b4"
      },
      "source": [
        "# 4. 分數計算\n",
        "Total=(Q1+Q2+Q3+Q4+Q5+Q6+Q7+Q8+Q9+Q10)\n",
        "print(\"總分是\",Total)"
      ],
      "execution_count": 53,
      "outputs": [
        {
          "output_type": "stream",
          "text": [
            "總分是 9\n"
          ],
          "name": "stdout"
        }
      ]
    },
    {
      "cell_type": "code",
      "metadata": {
        "colab": {
          "base_uri": "https://localhost:8080/"
        },
        "id": "HOfAMz8NJYJf",
        "outputId": "2671e397-864b-4216-fd75-12037880ef6a"
      },
      "source": [
        "# 5. 測驗結果\n",
        "if Total <= 2:\n",
        "    print(\"0~2 個勾勾：繼續維持下去吧!恭喜你，你的心累指數只有10%！只要有想做的事情，你就會馬上去做，有想去的地方你也會馬上出發，每天都過得不無聊、滿充實的喔！內心變得充實的話，行動力也會隨之提高，相信你之後也會一步步的實現自己想做的事呢！繼續保持現在的良好狀態，試著接受不同的挑戰，吸收各式各樣的新事物吧！不過在努力的同時，也要記得好好休息喔！\")\n",
        "\n",
        "elif Total <= 5 and Total >= 3:\n",
        "    print(\"3~5 個勾勾：要注意安撫情緒喔！你的心累指數是 40%，仍然是非常有活力的人。不過要小心一旦發生什麼事情，情緒可能容易變得消沉。你不是消極的人，反而是個努力家，但有時候過於努力，反而會造成疲倦與壓力。在到達極限之前，不如先抽個空讓自己好好休息。不然太過沉重的壓力有可能會壓垮你喔。\")\n",
        "\n",
        "elif Total <= 8 and Total >= 6:\n",
        "    print(\"6~8 個勾勾：你已經有點危險了！你的心累指數是 60%，已經有點累了呢！但再這樣下去，壓力是不會消失的！你也是依然有想挑戰的新事物，但只有空想卻無法下定決心，只會讓時間一分一秒逝去。你可能心有餘而力不足，覺得有點不甘心；那就先試著從小小的挑戰開始做起吧！\")\n",
        "\n",
        "if Total >= 9:\n",
        "    print(\"9~10 個勾勾：「快樂」是你的頭號課題！你的厭世指數有 80%，非常的高喔！你的內心狀態非常疲倦，每天的生活也讓你感到乏味至極。如果什麼事都覺得無聊又無趣的話，是因為你的內心狀態已經很疲倦，也很久沒有展開笑容了吧？對你來說，現在最重要的就是找回你自己的時間，試著一步步找到喜歡並且感興趣的事，努力讓自己重新充滿活力，再度快樂起來吧！\")"
      ],
      "execution_count": 55,
      "outputs": [
        {
          "output_type": "stream",
          "text": [
            "9~10 個勾勾：「快樂」是你的頭號課題！你的厭世指數有 80%，非常的高喔！你的內心狀態非常疲倦，每天的生活也讓你感到乏味至極。如果什麼事都覺得無聊又無趣的話，是因為你的內心狀態已經很疲倦，也很久沒有展開笑容了吧？對你來說，現在最重要的就是找回你自己的時間，試著一步步找到喜歡並且感興趣的事，努力讓自己重新充滿活力，再度快樂起來吧！\n"
          ],
          "name": "stdout"
        }
      ]
    },
    {
      "cell_type": "code",
      "metadata": {
        "colab": {
          "base_uri": "https://localhost:8080/"
        },
        "id": "YaGYlpeJQNJI",
        "outputId": "4dc899d9-368f-4b5c-8c28-c7cec0bae09c"
      },
      "source": [
        "# 6. 簡單道別\n",
        "input(\"測驗做玩啦!你覺得有準嗎?\")\n",
        "print(\"嗯嗯!那改天再聊吧!希望下次見到你，你更健康快樂了喔!\")\n",
        "print(\"再見\",name)"
      ],
      "execution_count": 60,
      "outputs": [
        {
          "output_type": "stream",
          "text": [
            "測驗做玩啦!你覺得有準嗎?有\n",
            "嗯嗯!那改天再聊吧!希望下次見到你，你更健康快樂了喔!\n",
            "再見 芳瑜\n"
          ],
          "name": "stdout"
        }
      ]
    },
    {
      "cell_type": "markdown",
      "metadata": {
        "id": "wgM4lwsLSWKF"
      },
      "source": [
        "#題目: 我有一個笑話你想不想聽"
      ]
    },
    {
      "cell_type": "code",
      "metadata": {
        "id": "MwL4Zwk1SbCR"
      },
      "source": [
        "# 1. 說明故事發生的時間\n",
        "print(\"鈴鈴鈴~鈴鈴鈴~(電話聲)\")\n",
        "print(\"狀態:凌晨三點被電話聲吵醒的你接起了電話。 \")"
      ],
      "execution_count": null,
      "outputs": []
    },
    {
      "cell_type": "code",
      "metadata": {
        "colab": {
          "base_uri": "https://localhost:8080/",
          "height": 120
        },
        "id": "R7zbtko6SrZy",
        "outputId": "0d104fc9-5df7-4d4d-a204-06787e1d98d1"
      },
      "source": [
        "# 2. 透過電話開啟與主角(你)的對話<預設機器人為久未見面的朋友>\n",
        "input(\"📞:嗨!我是你麻吉啦。想問你現在心情如何？ \")\n",
        "input(\"我現在很開心。快問我「為什麼」!求你啦Q_Q \")\n",
        "input(\"因為我剛剛聽到一個超好笑的笑話!你想聽嗎? \")\n",
        "print(\"不管你想不想聽，我還是想講~哈哈哈哈哈! \")\n"
      ],
      "execution_count": 62,
      "outputs": [
        {
          "output_type": "stream",
          "text": [
            "📞:嗨!我是你麻吉啦。想問你現在心情如何？ 6\n",
            "我現在很開心。快問我「為什麼」!求你啦Q_Q 6\n",
            "因為我剛剛聽到一個超好笑的笑話!你想聽嗎? 6\n",
            "不管你想不想聽，我還是想講~哈哈哈哈哈! \n",
            "📞:啊對了，你要先笑三聲我才開始講。因為我怕你睡著了:D 6\n"
          ],
          "name": "stdout"
        },
        {
          "output_type": "execute_result",
          "data": {
            "application/vnd.google.colaboratory.intrinsic+json": {
              "type": "string"
            },
            "text/plain": [
              "'6'"
            ]
          },
          "metadata": {
            "tags": []
          },
          "execution_count": 62
        }
      ]
    },
    {
      "cell_type": "code",
      "metadata": {
        "id": "kKJFUF2STDb2"
      },
      "source": [
        "# 3. 導引笑話即將開始的對話\n",
        "input(\"📞:啊對了，你要先笑三聲我才開始講。因為我怕你睡著了:D \")\n",
        "print(\"廢話不多說，我要開始講笑話了^u^ \")\n"
      ],
      "execution_count": null,
      "outputs": []
    },
    {
      "cell_type": "code",
      "metadata": {
        "id": "KUzCALLhUXbB"
      },
      "source": [
        "# 4. 機器人講述笑話&與主角(你)對話互動\n",
        "print(\"📞:某次生物考試中，有一題題目是「看鳥腳的圖片，寫出鳥的名字」 \" )\n",
        "print(\"小明一看到題目就很傻眼\" )\n",
        "print(\"小明:「傻眼」\" )\n",
        "print(\"所以他邊不爽邊把考卷撕掉走出考場 \")\n",
        "print(\"監考老師看見急忙叫住他，並說:「同學你回來!你叫什麼名字!」 \")\n",
        "print(\"小明彎下腰、捲起褲管，並拍拍自己的大腿... \")\n",
        "\n",
        "input(\"你猜小明說了什麼? \")\n",
        "print(\"小明:「你猜啊!你猜猜看啊!」 \")"
      ],
      "execution_count": null,
      "outputs": []
    },
    {
      "cell_type": "code",
      "metadata": {
        "id": "ii1oBZFjTPyr"
      },
      "source": [
        "# 5. 結局對應開場營造之氣氛<有個性的機器人?>\n",
        "print(\"📞:是不是很好笑!好，我笑話講完了。晚安唷麻吉^3^ \")\n",
        "print(\"嘟...嘟...嘟...(被掛電話) \")\n",
        "print(\"♫ 最怕空氣突然安靜 ♫ \")"
      ],
      "execution_count": null,
      "outputs": []
    }
  ]
}