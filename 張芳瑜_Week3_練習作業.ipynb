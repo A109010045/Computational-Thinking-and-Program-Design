{
  "nbformat": 4,
  "nbformat_minor": 0,
  "metadata": {
    "colab": {
      "name": "張芳瑜-Week3-練習作業.ipynb",
      "provenance": [],
      "collapsed_sections": [],
      "authorship_tag": "ABX9TyM4yKXgwVeFtG4l7P73a/PR",
      "include_colab_link": true
    },
    "kernelspec": {
      "name": "python3",
      "display_name": "Python 3"
    }
  },
  "cells": [
    {
      "cell_type": "markdown",
      "metadata": {
        "id": "view-in-github",
        "colab_type": "text"
      },
      "source": [
        "<a href=\"https://colab.research.google.com/github/A109010045/Computational-Thinking-and-Program-Design/blob/main/%E5%BC%B5%E8%8A%B3%E7%91%9C_Week3_%E7%B7%B4%E7%BF%92%E4%BD%9C%E6%A5%AD.ipynb\" target=\"_parent\"><img src=\"https://colab.research.google.com/assets/colab-badge.svg\" alt=\"Open In Colab\"/></a>"
      ]
    },
    {
      "cell_type": "markdown",
      "metadata": {
        "id": "gXEppU5vNUfb"
      },
      "source": [
        "#隨堂練習\r\n"
      ]
    },
    {
      "cell_type": "code",
      "metadata": {
        "id": "PrHo5oi0OJxB"
      },
      "source": [
        ""
      ],
      "execution_count": null,
      "outputs": []
    },
    {
      "cell_type": "markdown",
      "metadata": {
        "id": "5ND89YDzOQgL"
      },
      "source": [
        "#課後練習"
      ]
    },
    {
      "cell_type": "markdown",
      "metadata": {
        "id": "vqlSFI7yOvAC"
      },
      "source": [
        "**從一則新聞報導，提出你對新聞系（OO系）學生為什麼要學「運算思維與程式設計」的見解。（告訴我新聞連結，以及你的觀點即可。）**"
      ]
    },
    {
      "cell_type": "markdown",
      "metadata": {
        "id": "wsIqK8p9SMXp"
      },
      "source": [
        "新聞報導 https://www.cw.com.tw/article/5080736 孩子為何要學程式設計？3個原因告訴你｜天下雜誌\r\n",
        "\r\n",
        "  對於「新聞系學生為何要學運算思維與程式設計」，我的見解是，現下的社會因為科技、軟體帶來的改變太多了，我們現在已經進入人工智慧的時代，既然科技不斷在進步，未來說不定程式語言會變成主要的語言，人人都必須看懂，那麼我們的思維當然也不能停在原地，必須加強自己運算思維的模式和程式設計的能力。\r\n",
        "  \r\n",
        "  不管是在未來的趨勢或是市場需求下來看，不管是對生活、對職涯發展，我們都應該學習並善用程式設計，並從中學習用電腦解決問題，打破傳統學習方式，建構運算性思維去解決問題，才不至於在未來被這股潮流給拋下，或著趨於劣勢被邊緣化。\r\n",
        "\r\n",
        "  針對新聞系的學生，若能應用在跨領域的方面，因為新聞不是一個非常要求本科的領域，競爭會很大，如能利用程式設計或是簡單軟體處哩，架設網站，或是適時運用大數據統計報導數據，會有很大的機會搶得先機。\r\n",
        "\r\n",
        "\r\n"
      ]
    },
    {
      "cell_type": "code",
      "metadata": {
        "id": "oQuULP15XGEX"
      },
      "source": [
        ""
      ],
      "execution_count": null,
      "outputs": []
    }
  ]
}