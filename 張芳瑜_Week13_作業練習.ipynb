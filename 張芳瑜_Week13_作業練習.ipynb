{
  "nbformat": 4,
  "nbformat_minor": 0,
  "metadata": {
    "kernelspec": {
      "display_name": "Python 3",
      "language": "python",
      "name": "python3"
    },
    "language_info": {
      "codemirror_mode": {
        "name": "ipython",
        "version": 3
      },
      "file_extension": ".py",
      "mimetype": "text/x-python",
      "name": "python",
      "nbconvert_exporter": "python",
      "pygments_lexer": "ipython3",
      "version": "3.8.5"
    },
    "colab": {
      "name": "張芳瑜-Week13-作業練習.ipynb",
      "provenance": [],
      "collapsed_sections": [],
      "include_colab_link": true
    }
  },
  "cells": [
    {
      "cell_type": "markdown",
      "metadata": {
        "id": "view-in-github",
        "colab_type": "text"
      },
      "source": [
        "<a href=\"https://colab.research.google.com/github/A109010045/Computational-Thinking-and-Program-Design/blob/main/%E5%BC%B5%E8%8A%B3%E7%91%9C_Week13_%E4%BD%9C%E6%A5%AD%E7%B7%B4%E7%BF%92.ipynb\" target=\"_parent\"><img src=\"https://colab.research.google.com/assets/colab-badge.svg\" alt=\"Open In Colab\"/></a>"
      ]
    },
    {
      "cell_type": "markdown",
      "metadata": {
        "id": "EBAwx0dun8tS"
      },
      "source": [
        "**隨堂練習1： BMI 計算**\n",
        "\n",
        "請寫一個程式讓使用者輸入身高與體重，顯示BMI 值與肥胖程度。 BMI 等於體重（KG）除以身高（M）的平方，而BMI 與肥胖分類標準如下：\n",
        "\n",
        "若BMI 值小於18，則顯示「體重過輕」，否則若BMI 值小於24，則顯示「體重正常」，若BMI 值小於27，則顯示「體重過重」，否則顯示「體重肥胖」。"
      ]
    },
    {
      "cell_type": "code",
      "metadata": {
        "id": "dybu4LPZn8te",
        "colab": {
          "base_uri": "https://localhost:8080/"
        },
        "outputId": "70e08d1c-fa40-4913-e503-eb899c34e329"
      },
      "source": [
        "w = float(input(' 請輸入體重資訊(KG)? ')) \n",
        "h = float(input(' 請輸入身高資訊(M)? '))\n",
        "bmi = w/(h*h)\n",
        "print('BMI', bmi)\n",
        "\n",
        "if bmi < 18:\n",
        "  print('體重過輕')\n",
        "elif bmi < 24:\n",
        "  print('體重正常')\n",
        "elif bmi < 27:\n",
        "  print('體重過重')\n",
        "else:\n",
        "  print('體重肥胖')"
      ],
      "execution_count": 1,
      "outputs": [
        {
          "output_type": "stream",
          "text": [
            " 請輸入體重資訊(KG)? 46\n",
            " 請輸入身高資訊(M)? 162\n",
            "BMI 0.0017527815881725347\n",
            "體重過輕\n"
          ],
          "name": "stdout"
        }
      ]
    },
    {
      "cell_type": "markdown",
      "metadata": {
        "id": "r2MfXrN3n8tg"
      },
      "source": [
        "**隨堂練習2： 三一律(單向選擇、雙向與巢狀選擇、多向選擇)**\n",
        "\n",
        "請輸入一個數，然後判斷這個數是正數、是負數或者是零。"
      ]
    },
    {
      "cell_type": "code",
      "metadata": {
        "id": "d6nlC-bfn8ti",
        "colab": {
          "base_uri": "https://localhost:8080/"
        },
        "outputId": "23234ae3-e5f9-4ebf-f7a4-3272c87b68ac"
      },
      "source": [
        "num = int(input(\"輸入一個數字： \"))\n",
        " \n",
        "if num > 0:\n",
        " \tprint(\"是正數\")\n",
        "if num < 0:\n",
        " \tprint(\"是負數\")\n",
        "if num == 0:\n",
        " \tprint(\"數字是0\")\n",
        "print(\"比較完畢！\")"
      ],
      "execution_count": 2,
      "outputs": [
        {
          "output_type": "stream",
          "text": [
            "輸入一個數字： -1\n",
            "是負數\n",
            "比較完畢！\n"
          ],
          "name": "stdout"
        }
      ]
    },
    {
      "cell_type": "markdown",
      "metadata": {
        "id": "AyOqnIWdn8ti"
      },
      "source": [
        "**練習5   體溫與發燒**\n",
        "\n",
        "設計程式根據體溫判斷是否發燒，由使用者輸入體溫，程式判斷是否發燒，假設體溫小於36度，顯示「體溫過低」，體溫大於等於36度小於38度，顯示「體溫正常」，否則若體溫大於等於38度小於39度，顯示「體溫有點燒」，否則體溫大於等於39度，顯示「體溫很燒」。\n",
        "\n",
        "輸入體溫「36.5」，輸出為「體溫正常」。\n",
        "\n",
        "～程式執行結果如下。\n",
        "\n",
        "請輸入體溫？36.5\n",
        "\n",
        "體溫正常"
      ]
    },
    {
      "cell_type": "code",
      "metadata": {
        "id": "IGuixVc1n8tk",
        "colab": {
          "base_uri": "https://localhost:8080/"
        },
        "outputId": "d1b87ec5-f9cc-4fdd-bd99-fa2bb9bc54e9"
      },
      "source": [
        "## Input\n",
        "number = float(input(\"請輸入您的體溫:\"))\n",
        "\n",
        "## Process＋ Output\n",
        "if number <= 36.0:\n",
        "     print(\"體溫過低\")\n",
        "\n",
        "elif 36.0<= number <38.0 : \n",
        "     print(\"體溫正常\")\n",
        "\n",
        "elif 38.0<= number <39.0 :\n",
        "     print(\"體溫有點燒\")\n",
        "\n",
        "elif number >39.0 :\n",
        "     print(\"體溫很燒\")\n"
      ],
      "execution_count": 21,
      "outputs": [
        {
          "output_type": "stream",
          "text": [
            "請輸入您的體溫:36.5\n",
            "體溫正常\n"
          ],
          "name": "stdout"
        }
      ]
    },
    {
      "cell_type": "markdown",
      "metadata": {
        "id": "r3PSbAyzn8tl"
      },
      "source": [
        "**練習6  閏年判斷**\n",
        "\n",
        "設計程式允許輸入西元幾年，請求出該年是否是閏年，閏年表示該年多一天，若為4的倍數稱做閏年，但若為100的倍數就不為閏年，且若為400倍數又是閏年。(四年一潤、百年不潤、四百年再潤)\n",
        "\n",
        "輸入年份「2012」，輸出為「2012是閏年」。\n",
        "\n",
        "～程式執行結果如下。\n",
        "\n",
        "請輸入年份？2012\n",
        "\n",
        "2012 是閏年"
      ]
    },
    {
      "cell_type": "code",
      "metadata": {
        "id": "4oaadIKZn8tm",
        "colab": {
          "base_uri": "https://localhost:8080/"
        },
        "outputId": "6abc0b52-d707-4157-f720-4270b6d2e6e8"
      },
      "source": [
        "## Input\n",
        "year = int(input(\"請輸入西元年份:\"))\n",
        "\n",
        "## Process＋ Output\n",
        "if (year % 4) == 0 and (year % 100) !=0 or (year % 400) == 0:\n",
        "    print(year, \"年是閏年\")\n",
        "else:\n",
        "    print(year, \"年不是閏年\")"
      ],
      "execution_count": 24,
      "outputs": [
        {
          "output_type": "stream",
          "text": [
            "請輸入西元年份:2012\n",
            "2012 年是閏年\n"
          ],
          "name": "stdout"
        }
      ]
    },
    {
      "cell_type": "markdown",
      "metadata": {
        "id": "NGINIL9Xn8to"
      },
      "source": [
        "**練習12：計程車計費**\n",
        "\n",
        "某城市計程車計費3公里以內6元，超過3公里不足10公里、每公里1.8元，超過10公里則超過部分加收50%。此外停車等候每3分鐘收1元，請用Python寫出車費是多少。"
      ]
    },
    {
      "cell_type": "code",
      "metadata": {
        "id": "uw9wpNW3n8tq",
        "colab": {
          "base_uri": "https://localhost:8080/"
        },
        "outputId": "47576085-adba-4370-dceb-10a8cc5e4310"
      },
      "source": [
        "## Input\n",
        "KM = float(input(\"請輸入公里數:\"))\n",
        "Wait = float(input(\"請輸入等待分鐘數:\"))\n",
        "\n",
        "## Process＋ Output\n",
        "if KM <= 3.0:\n",
        "    import math \n",
        "    fare1 = 6 + math.floor(Wait/3*1)\n",
        "    print(\"車費是\" , fare1)\n",
        "\n",
        "elif 3.0< KM <10.0 :\n",
        "    import math\n",
        "    fare2 = math.floor(KM)*1.8 + math.floor(Wait/3*1)\n",
        "    print(\"車費是\" , math.floor(fare2))\n",
        "\n",
        "elif KM >= 10.0:\n",
        "    import math\n",
        "    fare3 = 9*1.8 + math.floor(KM-9)*2.7 + math.floor(Wait/3*1)\n",
        "    print(\"車費是\" , math.floor(fare3))"
      ],
      "execution_count": 73,
      "outputs": [
        {
          "output_type": "stream",
          "text": [
            "請輸入公里數:11\n",
            "請輸入等待分鐘數:8\n",
            "車費是 23\n"
          ],
          "name": "stdout"
        }
      ]
    }
  ]
}