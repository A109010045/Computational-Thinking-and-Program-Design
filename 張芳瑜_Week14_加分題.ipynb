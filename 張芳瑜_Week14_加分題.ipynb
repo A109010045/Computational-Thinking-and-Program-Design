{
  "nbformat": 4,
  "nbformat_minor": 0,
  "metadata": {
    "kernelspec": {
      "display_name": "Python 3",
      "language": "python",
      "name": "python3"
    },
    "language_info": {
      "codemirror_mode": {
        "name": "ipython",
        "version": 3
      },
      "file_extension": ".py",
      "mimetype": "text/x-python",
      "name": "python",
      "nbconvert_exporter": "python",
      "pygments_lexer": "ipython3",
      "version": "3.8.5"
    },
    "colab": {
      "name": "張芳瑜-Week14-加分題.ipynb",
      "provenance": [],
      "collapsed_sections": [],
      "include_colab_link": true
    }
  },
  "cells": [
    {
      "cell_type": "markdown",
      "metadata": {
        "id": "view-in-github",
        "colab_type": "text"
      },
      "source": [
        "<a href=\"https://colab.research.google.com/github/A109010045/Computational-Thinking-and-Program-Design/blob/main/%E5%BC%B5%E8%8A%B3%E7%91%9C_Week14_%E5%8A%A0%E5%88%86%E9%A1%8C.ipynb\" target=\"_parent\"><img src=\"https://colab.research.google.com/assets/colab-badge.svg\" alt=\"Open In Colab\"/></a>"
      ]
    },
    {
      "cell_type": "markdown",
      "metadata": {
        "id": "YBrjSK3yy8CQ"
      },
      "source": [
        "**隨堂練習1： BMI 計算**\n",
        "\n",
        "請寫一個程式讓使用者輸入身高與體重，顯示BMI 值與肥胖程度。 BMI 等於體重（KG）除以身高（M）的平方，而BMI 與肥胖分類標準如下：\n",
        "\n",
        "若BMI 值小於18，則顯示「體重過輕」，否則若BMI 值小於24，則顯示「體重正常」，若BMI 值小於27，則顯示「體重過重」，否則顯示「體重肥胖」。"
      ]
    },
    {
      "cell_type": "code",
      "metadata": {
        "id": "zvR24vW0y8CU"
      },
      "source": [
        "w = float(input(' 請輸入體重資訊(KG)? ')) \n",
        "h = float(input(' 請輸入身高資訊(M)? '))\n",
        "bmi = w/(h*h)\n",
        "print('BMI', bmi)\n",
        "\n",
        "if bmi < 18:\n",
        "  print('體重過輕')\n",
        "elif bmi < 24:\n",
        "  print('體重正常')\n",
        "elif bmi < 27:\n",
        "  print('體重過重')\n",
        "else:\n",
        "  print('體重肥胖')"
      ],
      "execution_count": null,
      "outputs": []
    },
    {
      "cell_type": "markdown",
      "metadata": {
        "id": "IxgCYErEy8CW"
      },
      "source": [
        "**隨堂練習2： 三一律(單向選擇、雙向與巢狀選擇、多向選擇)**\n",
        "\n",
        "請輸入一個數，然後判斷這個數是正數、是負數或者是零。"
      ]
    },
    {
      "cell_type": "code",
      "metadata": {
        "id": "xiHaHQYFy8CY"
      },
      "source": [
        "num = int(input(\"輸入一個數字： \"))\n",
        " \n",
        "if num > 0:\n",
        " \tprint(\"是正數\")\n",
        "if num < 0:\n",
        " \tprint(\"是負數\")\n",
        "if num == 0:\n",
        " \tprint(\"數字是0\")\n",
        "print(\"比較完畢！\")"
      ],
      "execution_count": null,
      "outputs": []
    },
    {
      "cell_type": "markdown",
      "metadata": {
        "id": "tZz0tnIyy8CZ"
      },
      "source": [
        "**練習5   體溫與發燒**\n",
        "\n",
        "設計程式根據體溫判斷是否發燒，由使用者輸入體溫，程式判斷是否發燒，假設體溫小於36度，顯示「體溫過低」，體溫大於等於36度小於38度，顯示「體溫正常」，否則若體溫大於等於38度小於39度，顯示「體溫有點燒」，否則體溫大於等於39度，顯示「體溫很燒」。\n",
        "\n",
        "輸入體溫「36.5」，輸出為「體溫正常」。\n",
        "\n",
        "～程式執行結果如下。\n",
        "\n",
        "請輸入體溫？36.5\n",
        "\n",
        "體溫正常"
      ]
    },
    {
      "cell_type": "code",
      "metadata": {
        "id": "ll8nfEbgy8Cb"
      },
      "source": [
        "## Input\n",
        "number = float(input(\"請輸入您的體溫:\"))\n",
        "\n",
        "## Process＋ Output\n",
        "if number <= 36.0:\n",
        "     print(\"體溫過低\")\n",
        "\n",
        "elif 36.0<= number <38.0 : \n",
        "     print(\"體溫正常\")\n",
        "\n",
        "elif 38.0<= number <39.0 :\n",
        "     print(\"體溫有點燒\")\n",
        "\n",
        "elif number >39.0 :\n",
        "     print(\"體溫很燒\")\n"
      ],
      "execution_count": null,
      "outputs": []
    },
    {
      "cell_type": "markdown",
      "metadata": {
        "id": "KUBkhb02y8Cd"
      },
      "source": [
        "**練習6  閏年判斷**\n",
        "\n",
        "設計程式允許輸入西元幾年，請求出該年是否是閏年，閏年表示該年多一天，若為4的倍數稱做閏年，但若為100的倍數就不為閏年，且若為400倍數又是閏年。(四年一潤、百年不潤、四百年再潤)\n",
        "\n",
        "輸入年份「2012」，輸出為「2012是閏年」。\n",
        "\n",
        "～程式執行結果如下。\n",
        "\n",
        "請輸入年份？2012\n",
        "\n",
        "2012 是閏年"
      ]
    },
    {
      "cell_type": "code",
      "metadata": {
        "id": "zDJ3HWKyy8Cf"
      },
      "source": [
        "## Input\n",
        "year = int(input(\"請輸入西元年份:\"))\n",
        "\n",
        "## Process＋ Output\n",
        "if (year % 4) == 0 and (year % 100) !=0 or (year % 400) == 0:\n",
        "    print(year, \"年是閏年\")\n",
        "else:\n",
        "    print(year, \"年不是閏年\")"
      ],
      "execution_count": null,
      "outputs": []
    },
    {
      "cell_type": "markdown",
      "metadata": {
        "id": "UkYiftFiy8Cg"
      },
      "source": [
        "**練習12：計程車計費**\n",
        "\n",
        "某城市計程車計費3公里以內6元，超過3公里不足10公里、每公里1.8元，超過10公里則超過部分加收50%。此外停車等候每3分鐘收1元，請用Python寫出車費是多少。"
      ]
    },
    {
      "cell_type": "code",
      "metadata": {
        "id": "VdqugQyYy8Ck"
      },
      "source": [
        "## Input\n",
        "KM = float(input(\"請輸入公里數:\"))\n",
        "Wait = float(input(\"請輸入等待分鐘數:\"))\n",
        "\n",
        "## Process＋ Output\n",
        "if KM <= 3.0:\n",
        "    import math \n",
        "    fare1 = 6 + math.floor(Wait/3*1)\n",
        "    print(\"車費是\" , fare1)\n",
        "\n",
        "elif 3.0< KM <10.0 :\n",
        "    import math\n",
        "    fare2 = math.floor(KM)*1.8 + math.floor(Wait/3*1)\n",
        "    print(\"車費是\" , math.floor(fare2))\n",
        "\n",
        "elif KM >= 10.0:\n",
        "    import math\n",
        "    fare3 = 9*1.8 + math.floor(KM-9)*2.7 + math.floor(Wait/3*1)\n",
        "    print(\"車費是\" , math.floor(fare3))"
      ],
      "execution_count": null,
      "outputs": []
    },
    {
      "cell_type": "markdown",
      "metadata": {
        "id": "NTv1pgbr09d1"
      },
      "source": [
        "課後作業：**加分題: 棒打老虎雞吃蟲**\n",
        "\n",
        "[棒打老虎雞吃蟲]跟[剪刀石頭布]是類似的遊戲，練習一下你是否也可以寫出類似的小遊戲呢？"
      ]
    },
    {
      "cell_type": "code",
      "metadata": {
        "colab": {
          "base_uri": "https://localhost:8080/"
        },
        "id": "0bGBwdT-1Lxn",
        "outputId": "a0be190b-a6e9-4751-c5c6-b86a1f020ed5"
      },
      "source": [
        "my_choice = int(input (\"請出拳 [0] 蟲 [1] 雞 [2] 老虎 [3] 棒子**\"))\n",
        "print(\"你出的拳:\", my_choice)\n",
        "import random\n",
        "com_choice = random.randint(0, 3) \n",
        "print(\"電腦出拳為\", com_choice)\n",
        "\n",
        "# 後面勝前面,其他平手\n",
        "if my_choice == (com_choice + 1) % 4:\n",
        " print(\"我贏了\")\n",
        "elif com_choice == (my_choice + 1) % 4:\n",
        " print(\"電腦贏了\")\n",
        "else:\n",
        " print(\"平手\")"
      ],
      "execution_count": 1,
      "outputs": [
        {
          "output_type": "stream",
          "text": [
            "請出拳 [0] 蟲 [1] 雞 [2] 老虎 [3] 棒子**3\n",
            "你出的拳: 3\n",
            "電腦出拳為 1\n",
            "平手\n"
          ],
          "name": "stdout"
        }
      ]
    }
  ]
}